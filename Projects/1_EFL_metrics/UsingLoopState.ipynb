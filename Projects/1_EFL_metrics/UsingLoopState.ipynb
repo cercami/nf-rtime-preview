{
 "cells": [
  {
   "cell_type": "code",
   "execution_count": 1,
   "metadata": {},
   "outputs": [],
   "source": [
    "import easygui\n",
    "import threading\n",
    "class LoopState(threading.Thread):\n",
    "\n",
    "    def __init__(self):\n",
    "        super(LoopState, self).__init__()\n",
    "        self._state='initial'\n",
    "    \n",
    "    def run(self):\n",
    "        while self._state != 'Stop':\n",
    "            self._state = easygui.buttonbox('Loop should:','Control', ('Pause','Stop'))\n",
    "\n",
    "    def get_state(self):\n",
    "        if self._state == 'Stop':\n",
    "            print('loop is stopped!')\n",
    "        return self._state\n"
   ]
  },
  {
   "cell_type": "code",
   "execution_count": 2,
   "metadata": {},
   "outputs": [],
   "source": [
    "ls=LoopState()"
   ]
  },
  {
   "cell_type": "code",
   "execution_count": 3,
   "metadata": {},
   "outputs": [],
   "source": [
    "ls.start()"
   ]
  },
  {
   "cell_type": "code",
   "execution_count": 6,
   "metadata": {},
   "outputs": [],
   "source": [
    "import time\n",
    "import sys\n",
    "sys.path.append('/home/nfcontrol/nf/nf-rtime/nftools/') "
   ]
  },
  {
   "cell_type": "code",
   "execution_count": 7,
   "metadata": {},
   "outputs": [
    {
     "name": "stdout",
     "output_type": "stream",
     "text": [
      "hallo!\n",
      "hallo!\n",
      "hallo!\n",
      "hallo!\n",
      "hallo!\n",
      "hallo!\n",
      "hallo!\n",
      "hallo!\n",
      "hallo!\n",
      "hallo!\n",
      "hallo!\n",
      "hallo!\n",
      "hallo!\n",
      "hallo!\n",
      "hallo!\n",
      "loop is stopped!\n"
     ]
    }
   ],
   "source": [
    "from nftools.loopcontrol import LoopState; l=LoopState(); l.start()\n",
    "while l.get_state() != 'Stop':\n",
    "    time.sleep(1)\n",
    "    print('hallo!')\n",
    "    "
   ]
  },
  {
   "cell_type": "code",
   "execution_count": 4,
   "metadata": {},
   "outputs": [],
   "source": []
  },
  {
   "cell_type": "code",
   "execution_count": null,
   "metadata": {},
   "outputs": [],
   "source": []
  }
 ],
 "metadata": {
  "kernelspec": {
   "display_name": "Python 3",
   "language": "python",
   "name": "python3"
  },
  "language_info": {
   "codemirror_mode": {
    "name": "ipython",
    "version": 3
   },
   "file_extension": ".py",
   "mimetype": "text/x-python",
   "name": "python",
   "nbconvert_exporter": "python",
   "pygments_lexer": "ipython3",
   "version": "3.6.6"
  }
 },
 "nbformat": 4,
 "nbformat_minor": 2
}
