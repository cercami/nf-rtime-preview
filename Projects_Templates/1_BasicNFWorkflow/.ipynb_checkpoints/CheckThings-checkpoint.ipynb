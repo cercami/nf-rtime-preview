{
 "cells": [
  {
   "cell_type": "code",
   "execution_count": 1,
   "metadata": {},
   "outputs": [],
   "source": [
    "# we'll think about setup.py and https://python-packaging.readthedocs.io/en/latest/minimal.html\n",
    "# later. For now we just use location magic:\n",
    "import sys\n",
    "sys.path.append(\"/home/johan/nf/nf-rtime/mushu\")\n",
    "sys.path.append(\"/home/johan/nf/nf-rtime/mushu/libmushu\")\n",
    "sys.path.append(\"/home/johan/nf/nf-rtime/wyrm/CallPyff\")\n",
    "\n",
    "import libmushu\n",
    "amp = libmushu.get_amp('bpamp')"
   ]
  },
  {
   "cell_type": "code",
   "execution_count": 2,
   "metadata": {},
   "outputs": [],
   "source": [
    "from libmushu.driver.bptools.bptools import Receiver\n",
    "from libmushu.driver.bptools.container import DataContainer\n",
    "from libmushu.driver.bptools.datacurator import DataCurator"
   ]
  },
  {
   "cell_type": "code",
   "execution_count": 3,
   "metadata": {},
   "outputs": [],
   "source": [
    "datacurator = DataCurator('localhost', 51244, 50)"
   ]
  },
  {
   "cell_type": "code",
   "execution_count": 4,
   "metadata": {},
   "outputs": [
    {
     "name": "stdout",
     "output_type": "stream",
     "text": [
      "OK .. starting the DataCurator.\n",
      "libmushu.driver.bptools.datacurator\n",
      "<socket.socket fd=53, family=AddressFamily.AF_INET, type=SocketKind.SOCK_STREAM, proto=0, laddr=('127.0.0.1', 33866), raddr=('127.0.0.1', 51244)>\n",
      "Loop Starting.\n"
     ]
    },
    {
     "name": "stderr",
     "output_type": "stream",
     "text": [
      "Task exception was never retrieved\n",
      "future: <Task finished coro=<get_from_container() done, defined at /home/johan/nf/nf-rtime/mushu/libmushu/driver/bptools/datacurator.py:34> exception=AttributeError(\"'DataContainer' object has no attribute 'points'\",)>\n",
      "Traceback (most recent call last):\n",
      "  File \"/home/johan/nf/nf-rtime/mushu/libmushu/driver/bptools/datacurator.py\", line 72, in get_from_container\n",
      "    points_in_block = container.get_samples_in_block()\n",
      "  File \"/home/johan/nf/nf-rtime/mushu/libmushu/driver/bptools/container.py\", line 275, in get_samples_in_block\n",
      "    return self.points\n",
      "AttributeError: 'DataContainer' object has no attribute 'points'\n"
     ]
    }
   ],
   "source": [
    "datacurator.start()"
   ]
  },
  {
   "cell_type": "code",
   "execution_count": null,
   "metadata": {},
   "outputs": [],
   "source": [
    "datacurator.get_data()"
   ]
  },
  {
   "cell_type": "markdown",
   "metadata": {},
   "source": [
    "# Check the Receiver, pls"
   ]
  },
  {
   "cell_type": "code",
   "execution_count": 4,
   "metadata": {},
   "outputs": [],
   "source": [
    "import multiprocessing\n",
    "queue_incoming = multiprocessing.Queue()"
   ]
  },
  {
   "cell_type": "code",
   "execution_count": 5,
   "metadata": {},
   "outputs": [],
   "source": [
    "# we'll think about setup.py and https://python-packaging.readthedocs.io/en/latest/minimal.html\n",
    "# later. For now we just use location magic:\n",
    "import sys\n",
    "sys.path.append(\"/home/johan/nf/nf-rtime/mushu\")\n",
    "sys.path.append(\"/home/johan/nf/nf-rtime/mushu/libmushu\")\n",
    "sys.path.append(\"/home/johan/nf/nf-rtime/wyrm/CallPyff\")\n",
    "\n",
    "import libmushu\n",
    "amp = libmushu.get_amp('bpamp')"
   ]
  },
  {
   "cell_type": "code",
   "execution_count": 6,
   "metadata": {},
   "outputs": [],
   "source": [
    "from libmushu.driver.bptools.bptools import Receiver\n",
    "from libmushu.driver.bptools.container import DataContainer\n",
    "from libmushu.driver.bptools.datacurator import DataCurator"
   ]
  },
  {
   "cell_type": "code",
   "execution_count": 7,
   "metadata": {},
   "outputs": [],
   "source": [
    "receiver = Receiver(queue_incoming, 'localhost', 51244)"
   ]
  },
  {
   "cell_type": "code",
   "execution_count": 8,
   "metadata": {},
   "outputs": [
    {
     "name": "stdout",
     "output_type": "stream",
     "text": [
      "running...\n"
     ]
    }
   ],
   "source": [
    "receiver.start()"
   ]
  },
  {
   "cell_type": "code",
   "execution_count": 57,
   "metadata": {},
   "outputs": [
    {
     "data": {
      "text/plain": [
       "True"
      ]
     },
     "execution_count": 57,
     "metadata": {},
     "output_type": "execute_result"
    }
   ],
   "source": [
    "receiver.is_alive()"
   ]
  },
  {
   "cell_type": "code",
   "execution_count": 58,
   "metadata": {},
   "outputs": [
    {
     "data": {
      "text/plain": [
       "151"
      ]
     },
     "execution_count": 58,
     "metadata": {},
     "output_type": "execute_result"
    }
   ],
   "source": [
    "queue_incoming.qsize()"
   ]
  },
  {
   "cell_type": "code",
   "execution_count": 59,
   "metadata": {},
   "outputs": [],
   "source": [
    "receiver.shutdown()"
   ]
  },
  {
   "cell_type": "code",
   "execution_count": 60,
   "metadata": {},
   "outputs": [
    {
     "data": {
      "text/plain": [
       "True"
      ]
     },
     "execution_count": 60,
     "metadata": {},
     "output_type": "execute_result"
    }
   ],
   "source": [
    "receiver.is_alive()"
   ]
  },
  {
   "cell_type": "code",
   "execution_count": 61,
   "metadata": {},
   "outputs": [
    {
     "data": {
      "text/plain": [
       "True"
      ]
     },
     "execution_count": 61,
     "metadata": {},
     "output_type": "execute_result"
    }
   ],
   "source": [
    "receiver.shutdown()\n",
    "receiver.is_alive()"
   ]
  },
  {
   "cell_type": "code",
   "execution_count": 73,
   "metadata": {},
   "outputs": [
    {
     "data": {
      "text/plain": [
       "{'d': array([[-285. , -137.5, -163. , ...,  -57. ,   84. ,  188.5],\n",
       "        [-278. , -131. , -160. , ...,  -54.5,   84.5,  187. ],\n",
       "        [-271. , -125.5, -159. , ...,  -50.5,   86.5,  187.5],\n",
       "        ...,\n",
       "        [-308.5, -159. , -177.5, ...,  -64. ,   85. ,  192. ],\n",
       "        [-302.5, -152.5, -174.5, ...,  -61. ,   86.5,  191. ],\n",
       "        [-294.5, -146.5, -172. , ...,  -57. ,   87. ,  190.5]]),\n",
       " 'markers': [],\n",
       " 'block': 11}"
      ]
     },
     "execution_count": 73,
     "metadata": {},
     "output_type": "execute_result"
    }
   ],
   "source": [
    "queue_incoming.get()"
   ]
  },
  {
   "cell_type": "code",
   "execution_count": 12,
   "metadata": {},
   "outputs": [],
   "source": [
    "from socket import *"
   ]
  },
  {
   "cell_type": "code",
   "execution_count": 13,
   "metadata": {},
   "outputs": [],
   "source": [
    "con = socket(AF_INET, SOCK_STREAM)"
   ]
  },
  {
   "cell_type": "code",
   "execution_count": 14,
   "metadata": {},
   "outputs": [],
   "source": [
    "con.connect(('localhost', 51244))"
   ]
  },
  {
   "cell_type": "code",
   "execution_count": 23,
   "metadata": {},
   "outputs": [
    {
     "data": {
      "text/plain": [
       "b\"\\xafJ\\x98\\xbb\\xf6\\xc9\\x14P\\x18\\x00\\x00\\x00\\x10'\\x00\\x00\\x8eEXC\\x96\\xc9\\x86L\\xafJ\\x98\\xbb\\xf6\\xc9\\x14P\\x18\\x00\\x00\\x00\\x10'\\x00\\x00\\x8eEXC\\x96\\xc9\\x86L\\xafJ\\x98\\xbb\\xf6\\xc9\\x14P\\x18\\x00\\x00\\x00\\x10'\\x00\\x00\\x8eEXC\\x96\\xc9\\x86L\\xafJ\\x98\\xbb\\xf6\\xc9\\x14P\\x18\\x00\\x00\\x00\\x10'\\x00\\x00\\x8eEXC\\x96\\xc9\\x86L\\xafJ\\x98\\xbb\""
      ]
     },
     "execution_count": 23,
     "metadata": {},
     "output_type": "execute_result"
    }
   ],
   "source": [
    "con.recv(100)"
   ]
  },
  {
   "cell_type": "code",
   "execution_count": null,
   "metadata": {},
   "outputs": [],
   "source": []
  }
 ],
 "metadata": {
  "kernelspec": {
   "display_name": "Python 3",
   "language": "python",
   "name": "python3"
  },
  "language_info": {
   "codemirror_mode": {
    "name": "ipython",
    "version": 3
   },
   "file_extension": ".py",
   "mimetype": "text/x-python",
   "name": "python",
   "nbconvert_exporter": "python",
   "pygments_lexer": "ipython3",
   "version": "3.6.6"
  }
 },
 "nbformat": 4,
 "nbformat_minor": 2
}
