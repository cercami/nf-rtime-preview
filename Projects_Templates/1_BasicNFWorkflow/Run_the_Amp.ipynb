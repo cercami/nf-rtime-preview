{
 "cells": [
  {
   "cell_type": "markdown",
   "metadata": {},
   "source": [
    "# This notebook is for making an EEG Experiment\n"
   ]
  },
  {
   "cell_type": "markdown",
   "metadata": {},
   "source": [
    "#### Instead of the bpamp, we can ALSO (!) figure out a way to use the Replayamp!!\n",
    "The Replayamp allows us to 'replay' an older dataset for practive & simulations"
   ]
  },
  {
   "cell_type": "code",
   "execution_count": 1,
   "metadata": {},
   "outputs": [],
   "source": [
    "# we'll think about setup.py and https://python-packaging.readthedocs.io/en/latest/minimal.html\n",
    "# later. For now we just use location magic:\n",
    "import sys\n",
    "sys.path.append(\"/home/johan/nf/nf-rtime/mushu\")\n",
    "sys.path.append(\"/home/johan/nf/nf-rtime/mushu/libmushu\")\n",
    "sys.path.append(\"/home/johan/nf/nf-rtime/wyrm/CallPyff\")\n",
    "\n",
    "import libmushu\n",
    "amp = libmushu.get_amp('bpamp')"
   ]
  },
  {
   "cell_type": "markdown",
   "metadata": {},
   "source": [
    "Configure the amp -- configuration is SPECIFIC for the BPamp -- other have different specifications"
   ]
  },
  {
   "cell_type": "code",
   "execution_count": 2,
   "metadata": {},
   "outputs": [],
   "source": [
    "amp.configure(remotecontrol=False,\n",
    "              recorderip='localhost',\n",
    "              recorderport=51244,\n",
    "              pathtoworkspace='C:\\\\Vision\\\\Workfiles\\\\NF_64chEEG.rwksp',\n",
    "              experimentnumber='Pre-Run01',\n",
    "              subjectid='0001',\n",
    "              n_channels=64,\n",
    "              fs=5000)"
   ]
  },
  {
   "cell_type": "markdown",
   "metadata": {},
   "source": [
    "**INFO on BP Amps** You may have to wait at this point bit here until you can see that it records. If it doesn't work; restart the remote control of BP"
   ]
  },
  {
   "cell_type": "code",
   "execution_count": 28,
   "metadata": {},
   "outputs": [
    {
     "name": "stdout",
     "output_type": "stream",
     "text": [
      "Starting UDP server\n",
      "Starting TCP server\n",
      "starting...\n",
      "STARTED\n",
      "100\n",
      "OK .. starting the DataCurator.\n",
      "running...\n",
      "libmushu.driver.bptools.datacurator\n",
      "Loop Starting.\n",
      "We will wait until the header and a small part of data has been passed on to\n",
      "Start\n",
      "See the flowchart\n",
      "container by datacurator. If this takes too long, you should debug.\n",
      "Number of channels: 64\n",
      "Sampling interval: 200.0\n",
      "Resolutions: [0.5, 0.5, 0.5, 0.5, 0.5, 0.5, 0.5, 0.5, 0.5, 0.5, 0.5, 0.5, 0.5, 0.5, 0.5, 0.5, 0.5, 0.5, 0.5, 0.5, 0.5, 0.5, 0.5, 0.5, 0.5, 0.5, 0.5, 0.5, 0.5, 0.5, 0.5, 10.0, 0.5, 0.5, 0.5, 0.5, 0.5, 0.5, 0.5, 0.5, 0.5, 0.5, 0.5, 0.5, 0.5, 0.5, 0.5, 0.5, 0.5, 0.5, 0.5, 0.5, 0.5, 0.5, 0.5, 0.5, 0.5, 0.5, 0.5, 0.5, 0.5, 0.5, 0.5, 0.5]\n",
      "Channel Names: ['Fp1', 'Fp2', 'F3', 'F4', 'C3', 'C4', 'P3', 'P4', 'O1', 'O2', 'F7', 'F8', 'T7', 'T8', 'P7', 'P8', 'Fz', 'Cz', 'Pz', 'Oz', 'FC1', 'FC2', 'CP1', 'CP2', 'FC5', 'FC6', 'CP5', 'CP6', 'TP9', 'TP10', 'POz', 'ECG', 'F1', 'F2', 'C1', 'C2', 'P1', 'P2', 'AF3', 'AF4', 'FC3', 'FC4', 'CP3', 'CP4', 'PO3', 'PO4', 'F5', 'F6', 'C5', 'C6', 'P5', 'P6', 'AF7', 'AF8', 'FT7', 'FT8', 'TP7', 'TP8', 'PO7', 'PO8', 'FT9', 'FT10', 'Fpz', 'CPz']\n",
      "hdr SamplingInterval = 200.00\n",
      "*** Overflow with 7 datablocks ***\n",
      "FLIPPING/GOING THE THE MIDDLE AGAIN\n",
      "i can give only 5000 blocks, since it was too long since get_data was called\n",
      "loop stopped!\n",
      "receiver shutdown sent!\n",
      "Terminated by NF Control\n",
      "receiver successfully joined!\n",
      "stopping ampdecorator\n"
     ]
    }
   ],
   "source": [
    "amp.start()"
   ]
  },
  {
   "cell_type": "markdown",
   "metadata": {},
   "source": [
    "# The NF Loop\n",
    "This is the loop in which you'd call d, m = amp.get_data()\n",
    "\n",
    "The first time you call it, you get ALL the data from the time since you started the amplifier\n",
    "The second time you call it, you get all the data from the point that you last called this function\n",
    "\n",
    "The while loop allows you to continuously gather data, do an analysis, update your windows, etc."
   ]
  },
  {
   "cell_type": "code",
   "execution_count": 4,
   "metadata": {},
   "outputs": [
    {
     "name": "stdout",
     "output_type": "stream",
     "text": [
      "(22700, 64)\n",
      "2\n",
      "(5300, 64)\n",
      "1\n",
      "(5100, 64)\n",
      "0\n",
      "(5100, 64)\n",
      "1\n",
      "(5000, 64)\n",
      "0\n",
      "(5100, 64)\n",
      "1\n",
      "(5100, 64)\n",
      "0\n",
      "(4800, 64)\n",
      "1\n",
      "(5200, 64)\n",
      "0\n",
      "(5000, 64)\n",
      "1\n"
     ]
    }
   ],
   "source": [
    "import time\n",
    "\n",
    "# data, marker = amp.get_data()  # we call it now to 'reset' the timer, otherwise our first data will be huge.\n",
    "t0=time.time()  # what's the time now?\n",
    "duration = 10  # in seconds\n",
    "\n",
    "while time.time() - t0 < duration:\n",
    "        d, m = amp.get_data()\n",
    "        \n",
    "        print(d.shape)\n",
    "        print(len(m))\n",
    "        \n",
    "        time.sleep(1)\n",
    "        \n",
    "        "
   ]
  },
  {
   "cell_type": "code",
   "execution_count": 5,
   "metadata": {},
   "outputs": [
    {
     "name": "stdout",
     "output_type": "stream",
     "text": [
      "requesting to stop the acquisition\n",
      "amplifier stopped!\n"
     ]
    }
   ],
   "source": [
    "amp.stop()"
   ]
  },
  {
   "cell_type": "markdown",
   "metadata": {},
   "source": [
    "### Here we start main loop for feedback controller and bci network communication"
   ]
  },
  {
   "cell_type": "markdown",
   "metadata": {},
   "source": [
    "Stop the Amplifier (but retain possibility to query for incoming data)"
   ]
  },
  {
   "cell_type": "code",
   "execution_count": 38,
   "metadata": {},
   "outputs": [
    {
     "ename": "Exception",
     "evalue": "You need to (re-) start the amplifier to get data from it!",
     "output_type": "error",
     "traceback": [
      "\u001b[0;31m---------------------------------------------------------------------------\u001b[0m",
      "\u001b[0;31mException\u001b[0m                                 Traceback (most recent call last)",
      "\u001b[0;32m<ipython-input-38-2a948f403e76>\u001b[0m in \u001b[0;36m<module>\u001b[0;34m()\u001b[0m\n\u001b[0;32m----> 1\u001b[0;31m \u001b[0md\u001b[0m\u001b[0;34m,\u001b[0m \u001b[0mm\u001b[0m \u001b[0;34m=\u001b[0m \u001b[0mamp\u001b[0m\u001b[0;34m.\u001b[0m\u001b[0mget_data\u001b[0m\u001b[0;34m(\u001b[0m\u001b[0;34m)\u001b[0m\u001b[0;34m\u001b[0m\u001b[0m\n\u001b[0m\u001b[1;32m      2\u001b[0m \u001b[0md\u001b[0m\u001b[0;34m.\u001b[0m\u001b[0mshape\u001b[0m\u001b[0;34m\u001b[0m\u001b[0m\n",
      "\u001b[0;32m~/nf/nf-rtime/mushu/libmushu/ampdecorator.py\u001b[0m in \u001b[0;36mget_data\u001b[0;34m(self)\u001b[0m\n\u001b[1;32m    226\u001b[0m         \"\"\"\n\u001b[1;32m    227\u001b[0m         \u001b[0;31m# get data and marker from underlying amp\u001b[0m\u001b[0;34m\u001b[0m\u001b[0;34m\u001b[0m\u001b[0m\n\u001b[0;32m--> 228\u001b[0;31m         \u001b[0mdata\u001b[0m\u001b[0;34m,\u001b[0m \u001b[0mmarker\u001b[0m \u001b[0;34m=\u001b[0m \u001b[0mself\u001b[0m\u001b[0;34m.\u001b[0m\u001b[0mamp\u001b[0m\u001b[0;34m.\u001b[0m\u001b[0mget_data\u001b[0m\u001b[0;34m(\u001b[0m\u001b[0;34m)\u001b[0m\u001b[0;34m\u001b[0m\u001b[0m\n\u001b[0m\u001b[1;32m    229\u001b[0m \u001b[0;34m\u001b[0m\u001b[0m\n\u001b[1;32m    230\u001b[0m \u001b[0;34m\u001b[0m\u001b[0m\n",
      "\u001b[0;32m~/nf/nf-rtime/mushu/libmushu/driver/brainproducts.py\u001b[0m in \u001b[0;36mget_data\u001b[0;34m(self)\u001b[0m\n\u001b[1;32m    314\u001b[0m \u001b[0;34m\u001b[0m\u001b[0m\n\u001b[1;32m    315\u001b[0m         \u001b[0;32mif\u001b[0m \u001b[0mself\u001b[0m\u001b[0;34m.\u001b[0m\u001b[0mSTATE\u001b[0m \u001b[0;34m==\u001b[0m \u001b[0;34m'STOPPED'\u001b[0m\u001b[0;34m:\u001b[0m\u001b[0;34m\u001b[0m\u001b[0m\n\u001b[0;32m--> 316\u001b[0;31m             \u001b[0;32mraise\u001b[0m \u001b[0mException\u001b[0m\u001b[0;34m(\u001b[0m\u001b[0;34m'You need to (re-) start the amplifier to get data from it!'\u001b[0m\u001b[0;34m)\u001b[0m\u001b[0;34m\u001b[0m\u001b[0m\n\u001b[0m\u001b[1;32m    317\u001b[0m         \u001b[0;32mif\u001b[0m \u001b[0mself\u001b[0m\u001b[0;34m.\u001b[0m\u001b[0mSTATE\u001b[0m \u001b[0;34m==\u001b[0m \u001b[0;34m'INITIAL'\u001b[0m\u001b[0;34m:\u001b[0m\u001b[0;34m\u001b[0m\u001b[0m\n\u001b[1;32m    318\u001b[0m             \u001b[0;32mraise\u001b[0m \u001b[0mException\u001b[0m\u001b[0;34m(\u001b[0m\u001b[0;34m'You first need to do amp.start()'\u001b[0m\u001b[0;34m)\u001b[0m\u001b[0;34m\u001b[0m\u001b[0m\n",
      "\u001b[0;31mException\u001b[0m: You need to (re-) start the amplifier to get data from it!"
     ]
    }
   ],
   "source": [
    "d, m = amp.get_data()\n",
    "d.shape"
   ]
  },
  {
   "cell_type": "code",
   "execution_count": 35,
   "metadata": {},
   "outputs": [
    {
     "name": "stdout",
     "output_type": "stream",
     "text": [
      "requesting to stop the acquisition\n",
      "amplifier stopped!\n"
     ]
    }
   ],
   "source": [
    "amp.stop()"
   ]
  },
  {
   "cell_type": "code",
   "execution_count": 39,
   "metadata": {},
   "outputs": [
    {
     "data": {
      "text/plain": [
       "['Fp1',\n",
       " 'Fp2',\n",
       " 'F3',\n",
       " 'F4',\n",
       " 'C3',\n",
       " 'C4',\n",
       " 'P3',\n",
       " 'P4',\n",
       " 'O1',\n",
       " 'O2',\n",
       " 'F7',\n",
       " 'F8',\n",
       " 'T7',\n",
       " 'T8',\n",
       " 'P7',\n",
       " 'P8',\n",
       " 'Fz',\n",
       " 'Cz',\n",
       " 'Pz',\n",
       " 'Oz',\n",
       " 'FC1',\n",
       " 'FC2',\n",
       " 'CP1',\n",
       " 'CP2',\n",
       " 'FC5',\n",
       " 'FC6',\n",
       " 'CP5',\n",
       " 'CP6',\n",
       " 'TP9',\n",
       " 'TP10',\n",
       " 'POz',\n",
       " 'ECG',\n",
       " 'F1',\n",
       " 'F2',\n",
       " 'C1',\n",
       " 'C2',\n",
       " 'P1',\n",
       " 'P2',\n",
       " 'AF3',\n",
       " 'AF4',\n",
       " 'FC3',\n",
       " 'FC4',\n",
       " 'CP3',\n",
       " 'CP4',\n",
       " 'PO3',\n",
       " 'PO4',\n",
       " 'F5',\n",
       " 'F6',\n",
       " 'C5',\n",
       " 'C6',\n",
       " 'P5',\n",
       " 'P6',\n",
       " 'AF7',\n",
       " 'AF8',\n",
       " 'FT7',\n",
       " 'FT8',\n",
       " 'TP7',\n",
       " 'TP8',\n",
       " 'PO7',\n",
       " 'PO8',\n",
       " 'FT9',\n",
       " 'FT10',\n",
       " 'Fpz',\n",
       " 'CPz']"
      ]
     },
     "execution_count": 39,
     "metadata": {},
     "output_type": "execute_result"
    }
   ],
   "source": [
    "amp.get_channels()"
   ]
  },
  {
   "cell_type": "code",
   "execution_count": null,
   "metadata": {},
   "outputs": [],
   "source": []
  },
  {
   "cell_type": "code",
   "execution_count": null,
   "metadata": {},
   "outputs": [],
   "source": []
  },
  {
   "cell_type": "code",
   "execution_count": null,
   "metadata": {},
   "outputs": [],
   "source": []
  },
  {
   "cell_type": "code",
   "execution_count": null,
   "metadata": {},
   "outputs": [],
   "source": []
  }
 ],
 "metadata": {
  "kernelspec": {
   "display_name": "Python 3",
   "language": "python",
   "name": "python3"
  },
  "language_info": {
   "codemirror_mode": {
    "name": "ipython",
    "version": 3
   },
   "file_extension": ".py",
   "mimetype": "text/x-python",
   "name": "python",
   "nbconvert_exporter": "python",
   "pygments_lexer": "ipython3",
   "version": "3.6.6"
  }
 },
 "nbformat": 4,
 "nbformat_minor": 2
}
