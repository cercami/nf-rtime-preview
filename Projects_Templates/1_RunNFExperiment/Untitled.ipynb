{
 "cells": [
  {
   "cell_type": "code",
   "execution_count": 3,
   "metadata": {},
   "outputs": [],
   "source": [
    "import logging\n",
    "logging.basicConfig(level=logging.WARNING)\n",
    "\n",
    "import sys\n",
    "sys.path.append(\"../../wyrm\")  # real-time data analysis\n",
    "\n",
    "from wyrm import processing as proc\n",
    "from wyrm import plot\n",
    "from wyrm import io"
   ]
  },
  {
   "cell_type": "code",
   "execution_count": 5,
   "metadata": {},
   "outputs": [],
   "source": [
    "vhdr='/media/ldrive/Lab_MichaelB/Johan/nf/rawdata/CH003/eeg/Chall_Week 3_2018-10-03_16-27-18.vhdr'"
   ]
  },
  {
   "cell_type": "code",
   "execution_count": 6,
   "metadata": {},
   "outputs": [],
   "source": [
    "with open(vhdr) as fh:\n",
    "    fdata = map(str.strip, fh.readlines())"
   ]
  },
  {
   "cell_type": "code",
   "execution_count": 8,
   "metadata": {},
   "outputs": [],
   "source": [
    "fdata = filter(lambda x: not x.startswith(';'), fdata)\n",
    "fdata = filter(lambda x: len(x) > 0, fdata)"
   ]
  },
  {
   "cell_type": "code",
   "execution_count": 9,
   "metadata": {},
   "outputs": [
    {
     "data": {
      "text/plain": [
       "['BrainVision Data Exchange Header File Version 1.0',\n",
       " '[Common Infos]',\n",
       " 'DataFile=Chall_Week 3_2018-10-03_16-27-18.eeg',\n",
       " 'MarkerFile=Chall_Week 3_2018-10-03_16-27-18.vmrk',\n",
       " 'DataFormat=BINARY',\n",
       " 'DataOrientation=MULTIPLEXED',\n",
       " 'NumberOfChannels=64',\n",
       " 'SamplingInterval=500',\n",
       " '[Binary Infos]',\n",
       " 'BinaryFormat=IEEE_FLOAT_32',\n",
       " '[Channel Infos]',\n",
       " 'Ch1=Fp1,,1',\n",
       " 'Ch2=Fpz,,1',\n",
       " 'Ch3=Fp2,,1',\n",
       " 'Ch4=F7,,1',\n",
       " 'Ch5=F3,,1',\n",
       " 'Ch6=Fz,,1',\n",
       " 'Ch7=F4,,1',\n",
       " 'Ch8=F8,,1',\n",
       " 'Ch9=FC5,,1',\n",
       " 'Ch10=FC1,,1',\n",
       " 'Ch11=FC2,,1',\n",
       " 'Ch12=FC6,,1',\n",
       " 'Ch13=M1,,1',\n",
       " 'Ch14=T7,,1',\n",
       " 'Ch15=C3,,1',\n",
       " 'Ch16=Cz,,1',\n",
       " 'Ch17=C4,,1',\n",
       " 'Ch18=T8,,1',\n",
       " 'Ch19=M2,,1',\n",
       " 'Ch20=CP5,,1',\n",
       " 'Ch21=CP1,,1',\n",
       " 'Ch22=CP2,,1',\n",
       " 'Ch23=CP6,,1',\n",
       " 'Ch24=P7,,1',\n",
       " 'Ch25=P3,,1',\n",
       " 'Ch26=Pz,,1',\n",
       " 'Ch27=P4,,1',\n",
       " 'Ch28=P8,,1',\n",
       " 'Ch29=POz,,1',\n",
       " 'Ch30=O1,,1',\n",
       " 'Ch31=O2,,1',\n",
       " 'Ch32=EOG,,1',\n",
       " 'Ch33=AF7,,1',\n",
       " 'Ch34=AF3,,1',\n",
       " 'Ch35=AF4,,1',\n",
       " 'Ch36=AF8,,1',\n",
       " 'Ch37=F5,,1',\n",
       " 'Ch38=F1,,1',\n",
       " 'Ch39=F2,,1',\n",
       " 'Ch40=F6,,1',\n",
       " 'Ch41=FC3,,1',\n",
       " 'Ch42=FCz,,1',\n",
       " 'Ch43=FC4,,1',\n",
       " 'Ch44=C5,,1',\n",
       " 'Ch45=C1,,1',\n",
       " 'Ch46=C2,,1',\n",
       " 'Ch47=C6,,1',\n",
       " 'Ch48=CP3,,1',\n",
       " 'Ch49=CP4,,1',\n",
       " 'Ch50=P5,,1',\n",
       " 'Ch51=P1,,1',\n",
       " 'Ch52=P2,,1',\n",
       " 'Ch53=P6,,1',\n",
       " 'Ch54=PO5,,1',\n",
       " 'Ch55=PO3,,1',\n",
       " 'Ch56=PO4,,1',\n",
       " 'Ch57=PO6,,1',\n",
       " 'Ch58=FT7,,1',\n",
       " 'Ch59=FT8,,1',\n",
       " 'Ch60=TP7,,1',\n",
       " 'Ch61=TP8,,1',\n",
       " 'Ch62=PO7,,1',\n",
       " 'Ch63=PO8,,1',\n",
       " 'Ch64=Oz,,1']"
      ]
     },
     "execution_count": 9,
     "metadata": {},
     "output_type": "execute_result"
    }
   ],
   "source": [
    "fdata"
   ]
  },
  {
   "cell_type": "code",
   "execution_count": null,
   "metadata": {},
   "outputs": [],
   "source": []
  }
 ],
 "metadata": {
  "kernelspec": {
   "display_name": "Python 2",
   "language": "python",
   "name": "python2"
  },
  "language_info": {
   "codemirror_mode": {
    "name": "ipython",
    "version": 2
   },
   "file_extension": ".py",
   "mimetype": "text/x-python",
   "name": "python",
   "nbconvert_exporter": "python",
   "pygments_lexer": "ipython2",
   "version": "2.7.15"
  }
 },
 "nbformat": 4,
 "nbformat_minor": 2
}
