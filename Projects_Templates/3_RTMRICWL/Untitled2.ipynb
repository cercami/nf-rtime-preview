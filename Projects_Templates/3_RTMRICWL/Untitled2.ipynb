{
 "cells": [
  {
   "cell_type": "code",
   "execution_count": 1,
   "metadata": {},
   "outputs": [],
   "source": [
    "# import some data\n",
    "\n",
    "import mne\n",
    "import matplotlib.pyplot as plt\n",
    "import scipy"
   ]
  },
  {
   "cell_type": "code",
   "execution_count": 2,
   "metadata": {},
   "outputs": [],
   "source": [
    "%matplotlib qt5"
   ]
  },
  {
   "cell_type": "code",
   "execution_count": 11,
   "metadata": {},
   "outputs": [
    {
     "name": "stdout",
     "output_type": "stream",
     "text": [
      "The following EEG sensors did not have a position specified in the selected montage: ['EOG', 'ECG', 'CW1', 'CW2', 'CW3', 'CW4', 'CW5', 'CW6']. Their position has been left untouched.\n",
      "The data contains 'boundary' events, indicating data discontinuities. Be cautious of filtering and epoching around these events.\n",
      "Events like the following will be dropped entirely: ['fl', 'R', 'boundary', 'eec', '[]'], 10 in total\n",
      "709/1015 event codes could not be mapped to integers. Use the 'event_id' parameter to map such events manually.\n",
      "96 events will be dropped because they occur on the same time sample as another event. `mne.io.Raw` objects store events on an event channel, which cannot represent two events on the same sample. You can extract the original event structure using `mne.io.eeglab.read_events_eeglab`. Then, you can e.g. subset the extracted events for constructing epochs.\n",
      "Data will be preloaded. preload=False or a string preload is not supported when the data is stored in the .set file\n"
     ]
    },
    {
     "name": "stderr",
     "output_type": "stream",
     "text": [
      "<ipython-input-11-2a8b57b8448c>:1: RuntimeWarning: The following EEG sensors did not have a position specified in the selected montage: ['EOG', 'ECG', 'CW1', 'CW2', 'CW3', 'CW4', 'CW5', 'CW6']. Their position has been left untouched.\n",
      "  raw=mne.io.read_raw_eeglab('trial_data_for_mri_cwl_development_cwldata.set')\n",
      "<ipython-input-11-2a8b57b8448c>:1: RuntimeWarning: The data contains 'boundary' events, indicating data discontinuities. Be cautious of filtering and epoching around these events.\n",
      "  raw=mne.io.read_raw_eeglab('trial_data_for_mri_cwl_development_cwldata.set')\n",
      "<ipython-input-11-2a8b57b8448c>:1: RuntimeWarning: Events like the following will be dropped entirely: ['fl', 'R', 'boundary', 'eec', '[]'], 10 in total\n",
      "  raw=mne.io.read_raw_eeglab('trial_data_for_mri_cwl_development_cwldata.set')\n",
      "<ipython-input-11-2a8b57b8448c>:1: RuntimeWarning: 709/1015 event codes could not be mapped to integers. Use the 'event_id' parameter to map such events manually.\n",
      "  raw=mne.io.read_raw_eeglab('trial_data_for_mri_cwl_development_cwldata.set')\n",
      "<ipython-input-11-2a8b57b8448c>:1: RuntimeWarning: 96 events will be dropped because they occur on the same time sample as another event. `mne.io.Raw` objects store events on an event channel, which cannot represent two events on the same sample. You can extract the original event structure using `mne.io.eeglab.read_events_eeglab`. Then, you can e.g. subset the extracted events for constructing epochs.\n",
      "  raw=mne.io.read_raw_eeglab('trial_data_for_mri_cwl_development_cwldata.set')\n",
      "<ipython-input-11-2a8b57b8448c>:1: RuntimeWarning: Data will be preloaded. preload=False or a string preload is not supported when the data is stored in the .set file\n",
      "  raw=mne.io.read_raw_eeglab('trial_data_for_mri_cwl_development_cwldata.set')\n"
     ]
    }
   ],
   "source": [
    "raw=mne.io.read_raw_eeglab('trial_data_for_mri_cwl_development_cwldata.set')\n"
   ]
  },
  {
   "cell_type": "code",
   "execution_count": 88,
   "metadata": {},
   "outputs": [
    {
     "data": {
      "text/plain": [
       "[{'loc': array([nan, nan, nan, nan, nan, nan, nan, nan, nan, nan, nan, nan]),\n",
       "  'unit_mul': 0,\n",
       "  'range': 1.0,\n",
       "  'cal': 1e-06,\n",
       "  'kind': 2,\n",
       "  'coil_type': 1,\n",
       "  'unit': 107,\n",
       "  'coord_frame': 0,\n",
       "  'ch_name': 'CW1',\n",
       "  'scanno': 33,\n",
       "  'logno': 33},\n",
       " {'loc': array([nan, nan, nan, nan, nan, nan, nan, nan, nan, nan, nan, nan]),\n",
       "  'unit_mul': 0,\n",
       "  'range': 1.0,\n",
       "  'cal': 1e-06,\n",
       "  'kind': 2,\n",
       "  'coil_type': 1,\n",
       "  'unit': 107,\n",
       "  'coord_frame': 0,\n",
       "  'ch_name': 'CW2',\n",
       "  'scanno': 34,\n",
       "  'logno': 34},\n",
       " {'loc': array([nan, nan, nan, nan, nan, nan, nan, nan, nan, nan, nan, nan]),\n",
       "  'unit_mul': 0,\n",
       "  'range': 1.0,\n",
       "  'cal': 1e-06,\n",
       "  'kind': 2,\n",
       "  'coil_type': 1,\n",
       "  'unit': 107,\n",
       "  'coord_frame': 0,\n",
       "  'ch_name': 'CW3',\n",
       "  'scanno': 35,\n",
       "  'logno': 35},\n",
       " {'loc': array([nan, nan, nan, nan, nan, nan, nan, nan, nan, nan, nan, nan]),\n",
       "  'unit_mul': 0,\n",
       "  'range': 1.0,\n",
       "  'cal': 1e-06,\n",
       "  'kind': 2,\n",
       "  'coil_type': 1,\n",
       "  'unit': 107,\n",
       "  'coord_frame': 0,\n",
       "  'ch_name': 'CW4',\n",
       "  'scanno': 36,\n",
       "  'logno': 36}]"
      ]
     },
     "execution_count": 88,
     "metadata": {},
     "output_type": "execute_result"
    }
   ],
   "source": [
    "raw.info['chs'][32:36]"
   ]
  },
  {
   "cell_type": "code",
   "execution_count": 33,
   "metadata": {},
   "outputs": [],
   "source": [
    "cwl=raw[32:38,:][0]"
   ]
  },
  {
   "cell_type": "code",
   "execution_count": 35,
   "metadata": {},
   "outputs": [
    {
     "data": {
      "text/plain": [
       "(6, 293241)"
      ]
     },
     "execution_count": 35,
     "metadata": {},
     "output_type": "execute_result"
    }
   ],
   "source": [
    "cwl.shape"
   ]
  },
  {
   "cell_type": "code",
   "execution_count": 90,
   "metadata": {},
   "outputs": [
    {
     "data": {
      "text/plain": [
       "(39, 293241)"
      ]
     },
     "execution_count": 90,
     "metadata": {},
     "output_type": "execute_result"
    }
   ],
   "source": [
    "raw[:,:][0].shape"
   ]
  },
  {
   "cell_type": "code",
   "execution_count": 99,
   "metadata": {},
   "outputs": [],
   "source": [
    "eeg=raw[10,:][0].flatten()"
   ]
  },
  {
   "cell_type": "code",
   "execution_count": 101,
   "metadata": {},
   "outputs": [
    {
     "data": {
      "text/plain": [
       "(293241,)"
      ]
     },
     "execution_count": 101,
     "metadata": {},
     "output_type": "execute_result"
    }
   ],
   "source": [
    "eeg.shape"
   ]
  },
  {
   "cell_type": "code",
   "execution_count": 26,
   "metadata": {},
   "outputs": [
    {
     "data": {
      "text/plain": [
       "\u001b[0;31mInit signature:\u001b[0m \u001b[0mpa\u001b[0m\u001b[0;34m.\u001b[0m\u001b[0mfilters\u001b[0m\u001b[0;34m.\u001b[0m\u001b[0mFilterGNGD\u001b[0m\u001b[0;34m(\u001b[0m\u001b[0mn\u001b[0m\u001b[0;34m,\u001b[0m \u001b[0mmu\u001b[0m\u001b[0;34m=\u001b[0m\u001b[0;36m1.0\u001b[0m\u001b[0;34m,\u001b[0m \u001b[0meps\u001b[0m\u001b[0;34m=\u001b[0m\u001b[0;36m1.0\u001b[0m\u001b[0;34m,\u001b[0m \u001b[0mro\u001b[0m\u001b[0;34m=\u001b[0m\u001b[0;36m0.1\u001b[0m\u001b[0;34m,\u001b[0m \u001b[0mw\u001b[0m\u001b[0;34m=\u001b[0m\u001b[0;34m'random'\u001b[0m\u001b[0;34m)\u001b[0m\u001b[0;34m\u001b[0m\u001b[0m\n",
       "\u001b[0;31mDocstring:\u001b[0m     \n",
       "Adaptive GNGD filter.\n",
       "\n",
       "**Args:**\n",
       "\n",
       "* `n` : length of filter (integer) - how many input is input array\n",
       "  (row of input matrix)\n",
       "\n",
       "**Kwargs:**\n",
       "\n",
       "* `mu` : learning rate (float). Also known as step size.\n",
       "  If it is too slow,\n",
       "  the filter may have bad performance. If it is too high,\n",
       "  the filter will be unstable. The default value can be unstable\n",
       "  for ill-conditioned input data.\n",
       "\n",
       "* `eps` : compensation term (float) at the beginning. It is adaptive\n",
       "  parameter.\n",
       "\n",
       "* `ro` : step size adaptation parameter (float) at the beginning.\n",
       "  It is adaptive parameter.\n",
       "\n",
       "* `w` : initial weights of filter. Possible values are:\n",
       "    \n",
       "    * array with initial weights (1 dimensional array) of filter size\n",
       "\n",
       "    * \"random\" : create random weights\n",
       "    \n",
       "    * \"zeros\" : create zero value weights\n",
       "\u001b[0;31mFile:\u001b[0m           ~/.conda/envs/rt/lib/python3.6/site-packages/padasip/filters/gngd.py\n",
       "\u001b[0;31mType:\u001b[0m           type\n"
      ]
     },
     "metadata": {},
     "output_type": "display_data"
    }
   ],
   "source": [
    "pa.filters.FilterGNGD?"
   ]
  },
  {
   "cell_type": "code",
   "execution_count": 25,
   "metadata": {},
   "outputs": [],
   "source": [
    "import numpy as np\n",
    "import matplotlib.pylab as plt\n",
    "import padasip as pa "
   ]
  },
  {
   "cell_type": "code",
   "execution_count": 143,
   "metadata": {},
   "outputs": [],
   "source": [
    "NBCHAN=6\n",
    "TIMEPOINTS=50\n",
    "\n",
    "# these two function supplement your online measurment\n",
    "def measure_x():\n",
    "    # it produces input vector of size 3\n",
    "    x = np.random.random(3)\n",
    "    return x\n",
    "    \n",
    "def measure_d(x):\n",
    "    # meausure system output\n",
    "    d = 2*x[0] + 1*x[1] - 1.5*x[2]\n",
    "    return d\n",
    "\n",
    "\n",
    "N = 10000 # 100 samples\n",
    "STARTSAMPLE = 40000\n",
    "log_d = np.zeros(N)\n",
    "log_y = np.zeros(N)\n",
    "filt = pa.filters.FilterGNGD(NBCHAN*TIMEPOINTS, mu=0.5)\n",
    "x=np.empty((NBCHAN*TIMEPOINTS))\n",
    "\n",
    "for k in range(N):\n",
    "    # the CWL data, yield it in steps of 100\n",
    "\n",
    "    for i in range(TIMEPOINTS):\n",
    "        b=i*6\n",
    "        e=b+6\n",
    "        x[b:e] = cwl[:,STARTSAMPLE-i+k]\n",
    "        \n",
    "    # predict new value - current sample\n",
    "    y = filt.predict(x)\n",
    "\n",
    "    \n",
    "    d = eeg[STARTSAMPLE+k]\n",
    "    rest = d - y\n",
    "    \n",
    "\n",
    "    filt.adapt(d, x)\n",
    "    # log values\n",
    "    log_d[k] = d\n",
    "    log_y[k] = y\n",
    "    \n",
    "### show results\n",
    "plt.figure(figsize=(15,9))\n",
    "plt.subplot(211);plt.title(\"Adaptation\");plt.xlabel(\"samples - k\")\n",
    "plt.plot(log_d,\"b\", label=\"d - target\")\n",
    "plt.plot(log_y,\"g\", label=\"y - output\");plt.legend()\n",
    "plt.subplot(212);plt.title(\"Filter error\");plt.xlabel(\"samples - k\")\n",
    "plt.plot(10*np.log10((log_d-log_y)**2),\"r\", label=\"e - error [dB]\")\n",
    "plt.legend(); plt.tight_layout(); plt.show()"
   ]
  },
  {
   "cell_type": "code",
   "execution_count": 149,
   "metadata": {},
   "outputs": [
    {
     "data": {
      "text/plain": [
       "(103206.21553810008, 105799.90325468284)"
      ]
     },
     "execution_count": 149,
     "metadata": {},
     "output_type": "execute_result"
    }
   ],
   "source": [
    "plt.gca().get_xlim()"
   ]
  },
  {
   "cell_type": "code",
   "execution_count": 151,
   "metadata": {},
   "outputs": [
    {
     "data": {
      "text/plain": [
       "(103206.21553810008, 105799.90325468284)"
      ]
     },
     "execution_count": 151,
     "metadata": {},
     "output_type": "execute_result"
    }
   ],
   "source": [
    "plt.gca().set_xlim((103206.21553810008, 105799.90325468284))"
   ]
  },
  {
   "cell_type": "code",
   "execution_count": 42,
   "metadata": {},
   "outputs": [],
   "source": [
    "x=np.empty((1,NBCHAN*TIMEPOINTS))"
   ]
  },
  {
   "cell_type": "code",
   "execution_count": 28,
   "metadata": {},
   "outputs": [],
   "source": [
    "# these two function supplement your online measurment\n",
    "def measure_x():\n",
    "    # it produces input vector of size 3\n",
    "    x = np.random.random(3)\n",
    "    return x\n",
    "    \n",
    "def measure_d(x):\n",
    "    # meausure system output\n",
    "    d = 2*x[0] + 1*x[1] - 1.5*x[2]\n",
    "    return d\n",
    "    \n",
    "N = 100\n",
    "log_d = np.zeros(N)\n",
    "log_y = np.zeros(N)\n",
    "filt = pa.filters.FilterGNGD(3, mu=1.)\n",
    "for k in range(N):\n",
    "    # measure input\n",
    "    x = measure_x()\n",
    "    # predict new value\n",
    "    y = filt.predict(x)\n",
    "    # do the important stuff with prediction output\n",
    "    pass    \n",
    "    # measure output\n",
    "    d = measure_d(x)\n",
    "    # update filter\n",
    "    filt.adapt(d, x)\n",
    "    # log values\n",
    "    log_d[k] = d\n",
    "    log_y[k] = y\n",
    "    \n",
    "### show results\n",
    "plt.figure(figsize=(15,9))\n",
    "plt.subplot(211);plt.title(\"Adaptation\");plt.xlabel(\"samples - k\")\n",
    "plt.plot(log_d,\"b\", label=\"d - target\")\n",
    "plt.plot(log_y,\"g\", label=\"y - output\");plt.legend()\n",
    "plt.subplot(212);plt.title(\"Filter error\");plt.xlabel(\"samples - k\")\n",
    "plt.plot(10*np.log10((log_d-log_y)**2),\"r\", label=\"e - error [dB]\")\n",
    "plt.legend(); plt.tight_layout(); plt.show()"
   ]
  },
  {
   "cell_type": "code",
   "execution_count": 31,
   "metadata": {},
   "outputs": [
    {
     "data": {
      "text/plain": [
       "array([ 1.98772603,  0.99780143, -1.48700121])"
      ]
     },
     "execution_count": 31,
     "metadata": {},
     "output_type": "execute_result"
    }
   ],
   "source": [
    "filt.w"
   ]
  },
  {
   "cell_type": "code",
   "execution_count": null,
   "metadata": {},
   "outputs": [],
   "source": []
  }
 ],
 "metadata": {
  "kernelspec": {
   "display_name": "Python 3",
   "language": "python",
   "name": "python3"
  },
  "language_info": {
   "codemirror_mode": {
    "name": "ipython",
    "version": 3
   },
   "file_extension": ".py",
   "mimetype": "text/x-python",
   "name": "python",
   "nbconvert_exporter": "python",
   "pygments_lexer": "ipython3",
   "version": "3.6.6"
  }
 },
 "nbformat": 4,
 "nbformat_minor": 2
}
