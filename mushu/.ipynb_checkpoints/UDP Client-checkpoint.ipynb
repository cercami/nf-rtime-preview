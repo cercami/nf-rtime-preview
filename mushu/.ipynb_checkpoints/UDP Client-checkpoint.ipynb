{
 "cells": [
  {
   "cell_type": "code",
   "execution_count": 2,
   "metadata": {},
   "outputs": [
    {
     "ename": "NameError",
     "evalue": "name 'UDP' is not defined",
     "output_type": "error",
     "traceback": [
      "\u001b[0;31m---------------------------------------------------------------------------\u001b[0m",
      "\u001b[0;31mNameError\u001b[0m                                 Traceback (most recent call last)",
      "\u001b[0;32m<ipython-input-2-11640a2f73ec>\u001b[0m in \u001b[0;36m<module>\u001b[0;34m()\u001b[0m\n\u001b[0;32m----> 1\u001b[0;31m \u001b[0mUDP\u001b[0m\u001b[0;34m\u001b[0m\u001b[0m\n\u001b[0m\u001b[1;32m      2\u001b[0m \u001b[0;34m\u001b[0m\u001b[0m\n\u001b[1;32m      3\u001b[0m \u001b[0;32mimport\u001b[0m \u001b[0masyncio\u001b[0m\u001b[0;34m\u001b[0m\u001b[0m\n\u001b[1;32m      4\u001b[0m \u001b[0;34m\u001b[0m\u001b[0m\n\u001b[1;32m      5\u001b[0m \u001b[0;32mclass\u001b[0m \u001b[0mEchoClientProtocol\u001b[0m\u001b[0;34m:\u001b[0m\u001b[0;34m\u001b[0m\u001b[0m\n",
      "\u001b[0;31mNameError\u001b[0m: name 'UDP' is not defined"
     ]
    }
   ],
   "source": [
    "# UDP\n",
    "\n",
    "import asyncio\n",
    "\n",
    "class EchoClientProtocol:\n",
    "    def __init__(self, message, loop):\n",
    "        self.message = message\n",
    "        self.loop = loop\n",
    "        self.transport = None\n",
    "\n",
    "    def connection_made(self, transport):\n",
    "        self.transport = transport\n",
    "        print('Send:', self.message)\n",
    "        self.transport.sendto(self.message.encode())\n",
    "\n",
    "    def datagram_received(self, data, addr):\n",
    "        print(\"Received:\", data.decode())\n",
    "\n",
    "        print(\"Close the socket\")\n",
    "        self.transport.close()\n",
    "\n",
    "    def error_received(self, exc):\n",
    "        print('Error received:', exc)\n",
    "\n",
    "    def connection_lost(self, exc):\n",
    "        print(\"Socket closed, stop the event loop\")\n",
    "        loop = asyncio.get_event_loop()\n",
    "        loop.stop()\n",
    "\n",
    "loop = asyncio.get_event_loop()\n",
    "message = \"Hello World!\"\n",
    "connect = loop.create_datagram_endpoint(\n",
    "    lambda: EchoClientProtocol(message, loop),\n",
    "    remote_addr=('127.0.0.1', 9999))\n",
    "transport, protocol = loop.run_until_complete(connect)\n",
    "loop.run_forever()\n",
    "transport.close()\n",
    "loop.close()"
   ]
  }
 ],
 "metadata": {
  "kernelspec": {
   "display_name": "Python 3",
   "language": "python",
   "name": "python3"
  },
  "language_info": {
   "codemirror_mode": {
    "name": "ipython",
    "version": 3
   },
   "file_extension": ".py",
   "mimetype": "text/x-python",
   "name": "python",
   "nbconvert_exporter": "python",
   "pygments_lexer": "ipython3",
   "version": "3.6.2"
  }
 },
 "nbformat": 4,
 "nbformat_minor": 2
}
