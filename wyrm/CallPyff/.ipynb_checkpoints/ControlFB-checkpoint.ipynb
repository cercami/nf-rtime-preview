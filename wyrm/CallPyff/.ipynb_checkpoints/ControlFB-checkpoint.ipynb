{
 "cells": [
  {
   "cell_type": "code",
   "execution_count": 1,
   "metadata": {},
   "outputs": [
    {
     "data": {
      "text/plain": [
       "'/home/nfcontrol/nf/nf-rtime/wyrm/CallPyff'"
      ]
     },
     "execution_count": 1,
     "metadata": {},
     "output_type": "execute_result"
    }
   ],
   "source": [
    "pwd"
   ]
  },
  {
   "cell_type": "code",
   "execution_count": 2,
   "metadata": {},
   "outputs": [],
   "source": [
    "from lib import bcinetwork\n",
    "from lib import bcixml"
   ]
  },
  {
   "cell_type": "code",
   "execution_count": 3,
   "metadata": {},
   "outputs": [],
   "source": [
    "ip = '127.0.0.1'\n",
    "ip = '20.100.0.2'\n",
    "\n",
    "# bcinetwork.GUI_PORT=12300\n",
    "\n",
    "bcinet = bcinetwork.BciNetwork(ip, bcinetwork.FC_PORT, bcinetwork.GUI_PORT, 'bcixml')\n",
    "feedbacks = bcinet.getAvailableFeedbacks()"
   ]
  },
  {
   "cell_type": "code",
   "execution_count": 4,
   "metadata": {},
   "outputs": [
    {
     "name": "stdout",
     "output_type": "stream",
     "text": [
      "['TestD2', 'MovingRhomb', 'LibetClock', 'TobiQLAdapter', 'Lesson04', 'EyetrackerRawdata', 'EyetrackerFeedback', 'HexoSpeller', 'P300_Rectangle', 'ERPHex', 'FeedbackCursorArrow', 'TrivialPong', 'CheckerboardVEP', 'HexoSpellerVE', 'BoringClock', 'nback_verbal', 'Lesson01', 'BrainPong', 'CakeSpellerVE', 'MovingRhombGL', 'NFBasicThermometer', 'RSVPSpeller', 'CenterSpellerVE', 'MultiVisualOddball', 'Lesson01b', 'GoalKeeper', 'EEGfMRILocalizer', 'Oddball', 'StroopFeedback', 'ERPMatrix', 'VisualOddballVE', 'Lesson05', 'Lesson06', 'VisualOddball', 'Lesson02', 'Lesson03']\n"
     ]
    }
   ],
   "source": [
    "print(feedbacks)"
   ]
  },
  {
   "cell_type": "code",
   "execution_count": 5,
   "metadata": {},
   "outputs": [],
   "source": [
    "bcinet.send_init('EEGfMRILocalizer')"
   ]
  },
  {
   "cell_type": "code",
   "execution_count": 6,
   "metadata": {},
   "outputs": [
    {
     "data": {
      "text/plain": [
       "{'AUDIOTONE_ERROR_COMMISSION': False,\n",
       " 'AUDIOTONE_STOP': True,\n",
       " 'BUTTONS': ['lctrl', 'rctrl'],\n",
       " 'DO_AUDIO': True,\n",
       " 'DO_GNG': True,\n",
       " 'DO_VISUAL': True,\n",
       " 'EVENT_LPTAddress': 888,\n",
       " 'EVENT_LPTTrigWaitTime': 0.005,\n",
       " 'EVENT_TRIGLOG': 'log/triggerlog.log',\n",
       " 'EVENT_destip': '127.0.0.1',\n",
       " 'EVENT_destport': 6050,\n",
       " 'EVENT_printToTerminal': True,\n",
       " 'EVENT_printToTerminalAllowed': [0,\n",
       "  1,\n",
       "  2,\n",
       "  3,\n",
       "  4,\n",
       "  5,\n",
       "  6,\n",
       "  7,\n",
       "  8,\n",
       "  9,\n",
       "  10,\n",
       "  11,\n",
       "  12,\n",
       "  13,\n",
       "  14,\n",
       "  15,\n",
       "  16,\n",
       "  17,\n",
       "  18,\n",
       "  19,\n",
       "  20,\n",
       "  21,\n",
       "  22,\n",
       "  23,\n",
       "  24,\n",
       "  25,\n",
       "  26,\n",
       "  27,\n",
       "  28,\n",
       "  29,\n",
       "  30,\n",
       "  31,\n",
       "  32,\n",
       "  33,\n",
       "  34,\n",
       "  35,\n",
       "  36,\n",
       "  37,\n",
       "  38,\n",
       "  39,\n",
       "  40,\n",
       "  41,\n",
       "  42,\n",
       "  43,\n",
       "  44,\n",
       "  45,\n",
       "  46,\n",
       "  47,\n",
       "  48,\n",
       "  49,\n",
       "  50,\n",
       "  51,\n",
       "  52,\n",
       "  53,\n",
       "  54,\n",
       "  55,\n",
       "  56,\n",
       "  57,\n",
       "  58,\n",
       "  59,\n",
       "  60,\n",
       "  61,\n",
       "  62,\n",
       "  63,\n",
       "  64,\n",
       "  65,\n",
       "  66,\n",
       "  67,\n",
       "  68,\n",
       "  69,\n",
       "  70,\n",
       "  71,\n",
       "  72,\n",
       "  73,\n",
       "  74,\n",
       "  75,\n",
       "  76,\n",
       "  77,\n",
       "  78,\n",
       "  79,\n",
       "  80,\n",
       "  81,\n",
       "  82,\n",
       "  83,\n",
       "  84,\n",
       "  85,\n",
       "  86,\n",
       "  87,\n",
       "  88,\n",
       "  89,\n",
       "  90,\n",
       "  91,\n",
       "  92,\n",
       "  93,\n",
       "  94,\n",
       "  95,\n",
       "  96,\n",
       "  97,\n",
       "  98,\n",
       "  99,\n",
       "  100,\n",
       "  101,\n",
       "  102,\n",
       "  103,\n",
       "  104,\n",
       "  105,\n",
       "  106,\n",
       "  107,\n",
       "  108,\n",
       "  109,\n",
       "  110,\n",
       "  111,\n",
       "  112,\n",
       "  113,\n",
       "  114,\n",
       "  115,\n",
       "  116,\n",
       "  117,\n",
       "  118,\n",
       "  119,\n",
       "  120,\n",
       "  121,\n",
       "  122,\n",
       "  123,\n",
       "  124,\n",
       "  125,\n",
       "  126,\n",
       "  127,\n",
       "  128,\n",
       "  129,\n",
       "  130,\n",
       "  131,\n",
       "  132,\n",
       "  133,\n",
       "  134,\n",
       "  135,\n",
       "  136,\n",
       "  137,\n",
       "  138,\n",
       "  139,\n",
       "  140,\n",
       "  141,\n",
       "  142,\n",
       "  143,\n",
       "  144,\n",
       "  145,\n",
       "  146,\n",
       "  147,\n",
       "  148,\n",
       "  149,\n",
       "  150,\n",
       "  151,\n",
       "  152,\n",
       "  153,\n",
       "  154,\n",
       "  155,\n",
       "  156,\n",
       "  157,\n",
       "  158,\n",
       "  159,\n",
       "  160,\n",
       "  161,\n",
       "  162,\n",
       "  163,\n",
       "  164,\n",
       "  165,\n",
       "  166,\n",
       "  167,\n",
       "  168,\n",
       "  169,\n",
       "  170,\n",
       "  171,\n",
       "  172,\n",
       "  173,\n",
       "  174,\n",
       "  175,\n",
       "  176,\n",
       "  177,\n",
       "  178,\n",
       "  179,\n",
       "  180,\n",
       "  181,\n",
       "  182,\n",
       "  183,\n",
       "  184,\n",
       "  185,\n",
       "  186,\n",
       "  187,\n",
       "  188,\n",
       "  189,\n",
       "  190,\n",
       "  191,\n",
       "  192,\n",
       "  193,\n",
       "  194,\n",
       "  195,\n",
       "  196,\n",
       "  197,\n",
       "  198,\n",
       "  199,\n",
       "  200,\n",
       "  201,\n",
       "  202,\n",
       "  203,\n",
       "  204,\n",
       "  205,\n",
       "  206,\n",
       "  207,\n",
       "  208,\n",
       "  209,\n",
       "  210,\n",
       "  211,\n",
       "  212,\n",
       "  213,\n",
       "  214,\n",
       "  215,\n",
       "  216,\n",
       "  217,\n",
       "  218,\n",
       "  219,\n",
       "  220,\n",
       "  221,\n",
       "  222,\n",
       "  223,\n",
       "  224,\n",
       "  225,\n",
       "  226,\n",
       "  227,\n",
       "  228,\n",
       "  229,\n",
       "  230,\n",
       "  231,\n",
       "  232,\n",
       "  233,\n",
       "  234,\n",
       "  235,\n",
       "  236,\n",
       "  237,\n",
       "  238,\n",
       "  239,\n",
       "  240,\n",
       "  241,\n",
       "  242,\n",
       "  243,\n",
       "  244,\n",
       "  245,\n",
       "  246,\n",
       "  247,\n",
       "  248,\n",
       "  249,\n",
       "  250,\n",
       "  251,\n",
       "  252,\n",
       "  253,\n",
       "  254,\n",
       "  255],\n",
       " 'EVENT_sendLogFile': True,\n",
       " 'EVENT_sendParallel': True,\n",
       " 'EVENT_sendTcpIp': True,\n",
       " 'EYESCLOSED_TIME': 25.0,\n",
       " 'GNGSPEED': 1.0,\n",
       " 'GNG_ARROWGOESRED': False,\n",
       " 'INSTR': 'Remember, respond as FAST as you can once you see the arrow.  However, if you hear a beep, your task is to STOP yourself from pressing.  Stopping and Going are equally important.',\n",
       " 'IPADDRESS': 'localhost',\n",
       " 'LOGDIR': 'log',\n",
       " 'LOGFILEBASE': 'efl',\n",
       " 'LPT_TRIGGER_WAIT': 0.005,\n",
       " 'MONITOR_ALLOWGUI': False,\n",
       " 'MONITOR_DEGS_HEIGHTBASE': 20,\n",
       " 'MONITOR_DEGS_WIDTHBASE': 25,\n",
       " 'MONITOR_DISPLAYONSCREEN': 1,\n",
       " 'MONITOR_DISTANCE': 70.0,\n",
       " 'MONITOR_FLIPHORIZONTAL': False,\n",
       " 'MONITOR_FLIPVERTICAL': False,\n",
       " 'MONITOR_FPS': 60.0,\n",
       " 'MONITOR_FULLSCR': False,\n",
       " 'MONITOR_GAMMA': 1.0,\n",
       " 'MONITOR_HEIGHT': 30.0,\n",
       " 'MONITOR_NSCREENS': 2,\n",
       " 'MONITOR_PIXHEIGHT': 1024,\n",
       " 'MONITOR_PIXWIDTH': 1280,\n",
       " 'MONITOR_USEDEGS': True,\n",
       " 'MONITOR_WIDTH': 40.0,\n",
       " 'PORT': 6050,\n",
       " 'RECORDFRAMEINTERVALS': True,\n",
       " 'VIS_SHOWOPPOSITE': False,\n",
       " 'VIS_angleFreq': 6,\n",
       " 'VIS_checkerSize': 1.5,\n",
       " 'VIS_checkerSpeedMultiplier': 1.0,\n",
       " 'VIS_radialFreq': 6,\n",
       " 'caption': 'EEG - fMRI Localizer',\n",
       " 'color': [0, 0, 0],\n",
       " 'fontheight': 200,\n",
       " 'tooSoonTime': 0.0,\n",
       " 'udp_markers_host': '127.0.0.1',\n",
       " 'udp_markers_port': 12344}"
      ]
     },
     "execution_count": 6,
     "metadata": {},
     "output_type": "execute_result"
    }
   ],
   "source": [
    "bcinet.get_variables()"
   ]
  },
  {
   "cell_type": "markdown",
   "metadata": {},
   "source": [
    "## Set-up, II\n",
    "So after Initializing, you can still use an interaction signal without any further instruction to set some of the properties"
   ]
  },
  {
   "cell_type": "code",
   "execution_count": 11,
   "metadata": {},
   "outputs": [],
   "source": [
    "bcinet.send_signal(bcixml.BciSignal({'color': [1, 1, 1], 'NFPos': -0.5},None, bcixml.INTERACTION_SIGNAL))"
   ]
  },
  {
   "cell_type": "code",
   "execution_count": 12,
   "metadata": {},
   "outputs": [
    {
     "data": {
      "text/plain": [
       "{'NFPos': -0.5,\n",
       " 'caption': 'Neurofeedback Thermometer',\n",
       " 'color': [1, 1, 1],\n",
       " 'fontheight': 200,\n",
       " 'udp_markers_host': '127.0.0.1',\n",
       " 'udp_markers_port': 12344}"
      ]
     },
     "execution_count": 12,
     "metadata": {},
     "output_type": "execute_result"
    }
   ],
   "source": [
    "bcinet.get_variables()"
   ]
  },
  {
   "cell_type": "code",
   "execution_count": 7,
   "metadata": {},
   "outputs": [],
   "source": [
    "bcinet.play()"
   ]
  },
  {
   "cell_type": "markdown",
   "metadata": {},
   "source": [
    "# How to send some data:\n",
    "The data is just a dict with names and values (int, lists, or tuples\n",
    "The 'control' command is None (for some compatibility with underlying functions that can catch\n",
    "commands)\n",
    "Then there is the 'Type', which is CONTROL_SIGNAL -- these do not have commands.\n",
    "The type 'INTERACTION_SIGNAL' does capture commands in addition to data\n",
    "\n",
    "This one-liner sets the variable 'data' to this dict"
   ]
  },
  {
   "cell_type": "code",
   "execution_count": 16,
   "metadata": {},
   "outputs": [
    {
     "name": "stdout",
     "output_type": "stream",
     "text": [
      "-1.0\n",
      "-0.8\n",
      "-0.6\n",
      "-0.4\n",
      "-0.19999999999999996\n",
      "0.0\n",
      "0.19999999999999996\n",
      "0.3999999999999999\n",
      "0.6000000000000001\n",
      "0.8\n",
      "1.0\n"
     ]
    }
   ],
   "source": [
    "import time\n",
    "\n",
    "for i in range(11):\n",
    "        time.sleep(0.1)\n",
    "        val=-1+2*(i/10)\n",
    "        print(val)\n",
    "        bcinet.send_signal(bcixml.BciSignal({'data': val},None, bcixml.CONTROL_SIGNAL))"
   ]
  },
  {
   "cell_type": "code",
   "execution_count": 14,
   "metadata": {},
   "outputs": [
    {
     "data": {
      "text/plain": [
       "{'NFPos': -0.5,\n",
       " 'caption': 'Neurofeedback Thermometer',\n",
       " 'color': [1, 1, 1],\n",
       " 'fontheight': 200,\n",
       " 'udp_markers_host': '127.0.0.1',\n",
       " 'udp_markers_port': 12344}"
      ]
     },
     "execution_count": 14,
     "metadata": {},
     "output_type": "execute_result"
    }
   ],
   "source": [
    "bcinet.get_variables()"
   ]
  },
  {
   "cell_type": "code",
   "execution_count": 15,
   "metadata": {},
   "outputs": [],
   "source": [
    "bcinet.quit()"
   ]
  },
  {
   "cell_type": "code",
   "execution_count": 16,
   "metadata": {},
   "outputs": [
    {
     "data": {
      "text/plain": [
       "\u001b[0;31mSignature:\u001b[0m \u001b[0mbcinet\u001b[0m\u001b[0;34m.\u001b[0m\u001b[0msend_init\u001b[0m\u001b[0;34m(\u001b[0m\u001b[0mfeedback\u001b[0m\u001b[0;34m)\u001b[0m\u001b[0;34m\u001b[0m\u001b[0m\n",
       "\u001b[0;31mDocstring:\u001b[0m\n",
       "Send 'send_init(feedback)' to Feedback Controller.\n",
       "\n",
       ":param feedback: Feedback\n",
       "\u001b[0;31mFile:\u001b[0m      ~/repos/rt-cwl-eeg-fmri/wyrm/CallPyff/lib/bcinetwork.py\n",
       "\u001b[0;31mType:\u001b[0m      method\n"
      ]
     },
     "metadata": {},
     "output_type": "display_data"
    }
   ],
   "source": [
    "bcinet.send_init?"
   ]
  },
  {
   "cell_type": "markdown",
   "metadata": {},
   "source": [
    "## How to send other kinds of data?"
   ]
  },
  {
   "cell_type": "code",
   "execution_count": 14,
   "metadata": {},
   "outputs": [
    {
     "ename": "NameError",
     "evalue": "name 'data' is not defined",
     "output_type": "error",
     "traceback": [
      "\u001b[0;31m---------------------------------------------------------------------------\u001b[0m",
      "\u001b[0;31mNameError\u001b[0m                                 Traceback (most recent call last)",
      "\u001b[0;32m<ipython-input-14-8f09ce14e74b>\u001b[0m in \u001b[0;36m<module>\u001b[0;34m()\u001b[0m\n\u001b[0;32m----> 1\u001b[0;31m \u001b[0msignal\u001b[0m \u001b[0;34m=\u001b[0m \u001b[0mbcixml\u001b[0m\u001b[0;34m.\u001b[0m\u001b[0mBciSignal\u001b[0m\u001b[0;34m(\u001b[0m\u001b[0mdata\u001b[0m\u001b[0;34m,\u001b[0m \u001b[0;32mNone\u001b[0m\u001b[0;34m,\u001b[0m \u001b[0mbcixml\u001b[0m\u001b[0;34m.\u001b[0m\u001b[0mINTERACTION_SIGNAL\u001b[0m\u001b[0;34m)\u001b[0m\u001b[0;34m\u001b[0m\u001b[0m\n\u001b[0m",
      "\u001b[0;31mNameError\u001b[0m: name 'data' is not defined"
     ]
    }
   ],
   "source": [
    "signal = bcixml.BciSignal(data, None, bcixml.INTERACTION_SIGNAL)"
   ]
  },
  {
   "cell_type": "code",
   "execution_count": null,
   "metadata": {},
   "outputs": [],
   "source": [
    "signal = bcixml.BciSignal(None, None, bcixml.CONTROL_SIGNAL)\n",
    "signal.data = {'data': 0.5}\n",
    "bcinet.send_signal(signal)"
   ]
  },
  {
   "cell_type": "markdown",
   "metadata": {},
   "source": [
    "# Some of the commands you find in All Caps:"
   ]
  },
  {
   "cell_type": "code",
   "execution_count": null,
   "metadata": {},
   "outputs": [],
   "source": [
    "dir(bcixml)"
   ]
  },
  {
   "cell_type": "code",
   "execution_count": null,
   "metadata": {},
   "outputs": [],
   "source": []
  }
 ],
 "metadata": {
  "kernelspec": {
   "display_name": "Python 3",
   "language": "python",
   "name": "python3"
  },
  "language_info": {
   "codemirror_mode": {
    "name": "ipython",
    "version": 3
   },
   "file_extension": ".py",
   "mimetype": "text/x-python",
   "name": "python",
   "nbconvert_exporter": "python",
   "pygments_lexer": "ipython3",
   "version": "3.5.4"
  }
 },
 "nbformat": 4,
 "nbformat_minor": 2
}
