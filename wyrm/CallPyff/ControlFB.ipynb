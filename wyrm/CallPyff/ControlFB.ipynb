{
 "cells": [
  {
   "cell_type": "code",
   "execution_count": 1,
   "metadata": {},
   "outputs": [
    {
     "data": {
      "text/plain": [
       "'/home/nfcontrol/nf/nf-rtime/wyrm/CallPyff'"
      ]
     },
     "execution_count": 1,
     "metadata": {},
     "output_type": "execute_result"
    }
   ],
   "source": [
    "pwd"
   ]
  },
  {
   "cell_type": "code",
   "execution_count": 2,
   "metadata": {},
   "outputs": [],
   "source": [
    "from lib import bcinetwork\n",
    "from lib import bcixml"
   ]
  },
  {
   "cell_type": "code",
   "execution_count": 3,
   "metadata": {},
   "outputs": [],
   "source": [
    "# ip = '127.0.0.1'\n",
    "ip = '20.100.0.2'\n",
    "\n",
    "# bcinetwork.GUI_PORT=12300\n",
    "\n",
    "bcinet = bcinetwork.BciNetwork(ip, bcinetwork.FC_PORT, bcinetwork.GUI_PORT, 'bcixml')\n",
    "feedbacks = bcinet.getAvailableFeedbacks()"
   ]
  },
  {
   "cell_type": "code",
   "execution_count": 4,
   "metadata": {},
   "outputs": [
    {
     "name": "stdout",
     "output_type": "stream",
     "text": [
      "['TestD2', 'MovingRhomb', 'LibetClock', 'TobiQLAdapter', 'Lesson04', 'EyetrackerRawdata', 'EyetrackerFeedback', 'HexoSpeller', 'P300_Rectangle', 'ERPHex', 'FeedbackCursorArrow', 'TrivialPong', 'CheckerboardVEP', 'HexoSpellerVE', 'BoringClock', 'nback_verbal', 'Lesson01', 'BrainPong', 'CakeSpellerVE', 'MovingRhombGL', 'NFBasicThermometer', 'RSVPSpeller', 'CenterSpellerVE', 'MultiVisualOddball', 'Lesson01b', 'GoalKeeper', 'EEGfMRILocalizer', 'Oddball', 'StroopFeedback', 'ERPMatrix', 'VisualOddballVE', 'Lesson05', 'Lesson06', 'VisualOddball', 'Lesson02', 'Lesson03']\n"
     ]
    }
   ],
   "source": [
    "print(feedbacks)"
   ]
  },
  {
   "cell_type": "code",
   "execution_count": 5,
   "metadata": {},
   "outputs": [],
   "source": [
    "bcinet.send_init('EEGfMRILocalizer')"
   ]
  },
  {
   "cell_type": "code",
   "execution_count": 7,
   "metadata": {},
   "outputs": [
    {
     "data": {
      "text/plain": [
       "{'MONITOR_NSCREENS': 2,\n",
       " 'MONITOR_WIDTH': 40.0,\n",
       " 'fontheight': 200,\n",
       " 'color': [0, 0, 0],\n",
       " 'MONITOR_DEGS_WIDTHBASE': 25,\n",
       " 'MONITOR_HEIGHT': 30.0,\n",
       " 'GNGSPEED': 1.0,\n",
       " 'BUTTONS': ['lctrl', 'rctrl'],\n",
       " 'udp_markers_port': 12344,\n",
       " 'MONITOR_USEDEGS': True,\n",
       " 'MONITOR_ALLOWGUI': False,\n",
       " 'MONITOR_DISPLAYONSCREEN': 1,\n",
       " 'EVENT_TRIGLOG': 'log/triggerlog.log',\n",
       " 'EVENT_sendParallel': True,\n",
       " 'VIS_checkerSpeedMultiplier': 1.0,\n",
       " 'PORT': 6050,\n",
       " 'udp_markers_host': '127.0.0.1',\n",
       " 'MONITOR_DEGS_HEIGHTBASE': 20,\n",
       " 'EYESCLOSED_TIME': 25.0,\n",
       " 'EVENT_printToTerminal': True,\n",
       " 'MONITOR_FULLSCR': False,\n",
       " 'VIS_SHOWOPPOSITE': False,\n",
       " 'VIS_radialFreq': 6,\n",
       " 'LPT_TRIGGER_WAIT': 0.005,\n",
       " 'MONITOR_DISTANCE': 70.0,\n",
       " 'EVENT_sendTcpIp': True,\n",
       " 'tooSoonTime': 0.0,\n",
       " 'LOGFILEBASE': 'efl',\n",
       " 'VIS_angleFreq': 6,\n",
       " 'GNG_ARROWGOESRED': True,\n",
       " 'MONITOR_GAMMA': 1.0,\n",
       " 'MONITOR_PIXWIDTH': 1280,\n",
       " 'EVENT_LPTTrigWaitTime': 0.005,\n",
       " 'EVENT_destip': '127.0.0.1',\n",
       " 'EVENT_sendLogFile': True,\n",
       " 'DO_GNG': True,\n",
       " 'EVENT_destport': 6050,\n",
       " 'MONITOR_FLIPVERTICAL': False,\n",
       " 'INSTR': 'Remember, respond as FAST as you can once you see the arrow.  However, if you hear a beep, your task is to STOP yourself from pressing.  Stopping and Going are equally important.',\n",
       " 'MONITOR_PIXHEIGHT': 1024,\n",
       " 'AUDIOTONE_ERROR_COMMISSION': False,\n",
       " 'DO_AUDIO': True,\n",
       " 'EVENT_printToTerminalAllowed': [0, 40],\n",
       " 'EVENT_LPTAddress': 888,\n",
       " 'caption': 'EEG - fMRI Localizer',\n",
       " 'DO_VISUAL': True,\n",
       " 'RECORDFRAMEINTERVALS': True,\n",
       " 'LOGDIR': 'log',\n",
       " 'GNG_ARROWGOESRED_DELAY': 0.25,\n",
       " 'VIS_checkerSize': 1.5,\n",
       " 'AUDIOTONE_STOP': False,\n",
       " 'IPADDRESS': 'localhost',\n",
       " 'MONITOR_FPS': 60.0,\n",
       " 'MONITOR_FLIPHORIZONTAL': False}"
      ]
     },
     "execution_count": 7,
     "metadata": {},
     "output_type": "execute_result"
    }
   ],
   "source": [
    "bcinet.get_variables()"
   ]
  },
  {
   "cell_type": "markdown",
   "metadata": {},
   "source": [
    "## Set-up, II\n",
    "So after Initializing, you can still use an interaction signal without any further instruction to set some of the properties"
   ]
  },
  {
   "cell_type": "code",
   "execution_count": 8,
   "metadata": {},
   "outputs": [],
   "source": [
    "bcinet.send_signal(bcixml.BciSignal({'color': [1, 1, 1], 'NFPos': -0.5},None, bcixml.INTERACTION_SIGNAL))"
   ]
  },
  {
   "cell_type": "code",
   "execution_count": 9,
   "metadata": {},
   "outputs": [
    {
     "data": {
      "text/plain": [
       "{'MONITOR_NSCREENS': 2,\n",
       " 'MONITOR_WIDTH': 40.0,\n",
       " 'fontheight': 200,\n",
       " 'color': [0, 0, 0],\n",
       " 'MONITOR_DEGS_WIDTHBASE': 25,\n",
       " 'MONITOR_HEIGHT': 30.0,\n",
       " 'GNGSPEED': 1.0,\n",
       " 'BUTTONS': ['lctrl', 'rctrl'],\n",
       " 'udp_markers_port': 12344,\n",
       " 'MONITOR_USEDEGS': True,\n",
       " 'MONITOR_ALLOWGUI': False,\n",
       " 'MONITOR_DISPLAYONSCREEN': 1,\n",
       " 'EVENT_TRIGLOG': 'log/triggerlog.log',\n",
       " 'EVENT_sendParallel': True,\n",
       " 'VIS_checkerSpeedMultiplier': 1.0,\n",
       " 'PORT': 6050,\n",
       " 'udp_markers_host': '127.0.0.1',\n",
       " 'MONITOR_DEGS_HEIGHTBASE': 20,\n",
       " 'EYESCLOSED_TIME': 25.0,\n",
       " 'EVENT_printToTerminal': True,\n",
       " 'MONITOR_FULLSCR': False,\n",
       " 'VIS_SHOWOPPOSITE': False,\n",
       " 'VIS_radialFreq': 6,\n",
       " 'LPT_TRIGGER_WAIT': 0.005,\n",
       " 'MONITOR_DISTANCE': 70.0,\n",
       " 'EVENT_sendTcpIp': True,\n",
       " 'tooSoonTime': 0.0,\n",
       " 'LOGFILEBASE': 'efl',\n",
       " 'VIS_angleFreq': 6,\n",
       " 'GNG_ARROWGOESRED': True,\n",
       " 'MONITOR_GAMMA': 1.0,\n",
       " 'MONITOR_PIXWIDTH': 1280,\n",
       " 'EVENT_LPTTrigWaitTime': 0.005,\n",
       " 'EVENT_destip': '127.0.0.1',\n",
       " 'EVENT_sendLogFile': True,\n",
       " 'DO_GNG': True,\n",
       " 'EVENT_destport': 6050,\n",
       " 'MONITOR_FLIPVERTICAL': False,\n",
       " 'INSTR': 'Remember, respond as FAST as you can once you see the arrow.  However, if you hear a beep, your task is to STOP yourself from pressing.  Stopping and Going are equally important.',\n",
       " 'MONITOR_PIXHEIGHT': 1024,\n",
       " 'AUDIOTONE_ERROR_COMMISSION': False,\n",
       " 'DO_AUDIO': True,\n",
       " 'EVENT_printToTerminalAllowed': [0, 40],\n",
       " 'EVENT_LPTAddress': 888,\n",
       " 'caption': 'EEG - fMRI Localizer',\n",
       " 'DO_VISUAL': True,\n",
       " 'RECORDFRAMEINTERVALS': True,\n",
       " 'LOGDIR': 'log',\n",
       " 'GNG_ARROWGOESRED_DELAY': 0.25,\n",
       " 'VIS_checkerSize': 1.5,\n",
       " 'AUDIOTONE_STOP': False,\n",
       " 'IPADDRESS': 'localhost',\n",
       " 'MONITOR_FPS': 60.0,\n",
       " 'MONITOR_FLIPHORIZONTAL': False}"
      ]
     },
     "execution_count": 9,
     "metadata": {},
     "output_type": "execute_result"
    }
   ],
   "source": [
    "bcinet.get_variables()"
   ]
  },
  {
   "cell_type": "code",
   "execution_count": 7,
   "metadata": {},
   "outputs": [],
   "source": [
    "bcinet.play()"
   ]
  },
  {
   "cell_type": "markdown",
   "metadata": {},
   "source": [
    "# How to send some data:\n",
    "The data is just a dict with names and values (int, lists, or tuples\n",
    "The 'control' command is None (for some compatibility with underlying functions that can catch\n",
    "commands)\n",
    "Then there is the 'Type', which is CONTROL_SIGNAL -- these do not have commands.\n",
    "The type 'INTERACTION_SIGNAL' does capture commands in addition to data\n",
    "\n",
    "This one-liner sets the variable 'data' to this dict"
   ]
  },
  {
   "cell_type": "code",
   "execution_count": 16,
   "metadata": {},
   "outputs": [
    {
     "name": "stdout",
     "output_type": "stream",
     "text": [
      "-1.0\n",
      "-0.8\n",
      "-0.6\n",
      "-0.4\n",
      "-0.19999999999999996\n",
      "0.0\n",
      "0.19999999999999996\n",
      "0.3999999999999999\n",
      "0.6000000000000001\n",
      "0.8\n",
      "1.0\n"
     ]
    }
   ],
   "source": [
    "import time\n",
    "\n",
    "for i in range(11):\n",
    "        time.sleep(0.1)\n",
    "        val=-1+2*(i/10)\n",
    "        print(val)\n",
    "        bcinet.send_signal(bcixml.BciSignal({'data': val},None, bcixml.CONTROL_SIGNAL))"
   ]
  },
  {
   "cell_type": "code",
   "execution_count": 14,
   "metadata": {},
   "outputs": [
    {
     "data": {
      "text/plain": [
       "{'NFPos': -0.5,\n",
       " 'caption': 'Neurofeedback Thermometer',\n",
       " 'color': [1, 1, 1],\n",
       " 'fontheight': 200,\n",
       " 'udp_markers_host': '127.0.0.1',\n",
       " 'udp_markers_port': 12344}"
      ]
     },
     "execution_count": 14,
     "metadata": {},
     "output_type": "execute_result"
    }
   ],
   "source": [
    "bcinet.get_variables()"
   ]
  },
  {
   "cell_type": "code",
   "execution_count": 15,
   "metadata": {},
   "outputs": [],
   "source": [
    "bcinet.quit()"
   ]
  },
  {
   "cell_type": "code",
   "execution_count": 16,
   "metadata": {},
   "outputs": [
    {
     "data": {
      "text/plain": [
       "\u001b[0;31mSignature:\u001b[0m \u001b[0mbcinet\u001b[0m\u001b[0;34m.\u001b[0m\u001b[0msend_init\u001b[0m\u001b[0;34m(\u001b[0m\u001b[0mfeedback\u001b[0m\u001b[0;34m)\u001b[0m\u001b[0;34m\u001b[0m\u001b[0m\n",
       "\u001b[0;31mDocstring:\u001b[0m\n",
       "Send 'send_init(feedback)' to Feedback Controller.\n",
       "\n",
       ":param feedback: Feedback\n",
       "\u001b[0;31mFile:\u001b[0m      ~/repos/rt-cwl-eeg-fmri/wyrm/CallPyff/lib/bcinetwork.py\n",
       "\u001b[0;31mType:\u001b[0m      method\n"
      ]
     },
     "metadata": {},
     "output_type": "display_data"
    }
   ],
   "source": [
    "bcinet.send_init?"
   ]
  },
  {
   "cell_type": "markdown",
   "metadata": {},
   "source": [
    "## How to send other kinds of data?"
   ]
  },
  {
   "cell_type": "code",
   "execution_count": 14,
   "metadata": {},
   "outputs": [
    {
     "ename": "NameError",
     "evalue": "name 'data' is not defined",
     "output_type": "error",
     "traceback": [
      "\u001b[0;31m---------------------------------------------------------------------------\u001b[0m",
      "\u001b[0;31mNameError\u001b[0m                                 Traceback (most recent call last)",
      "\u001b[0;32m<ipython-input-14-8f09ce14e74b>\u001b[0m in \u001b[0;36m<module>\u001b[0;34m()\u001b[0m\n\u001b[0;32m----> 1\u001b[0;31m \u001b[0msignal\u001b[0m \u001b[0;34m=\u001b[0m \u001b[0mbcixml\u001b[0m\u001b[0;34m.\u001b[0m\u001b[0mBciSignal\u001b[0m\u001b[0;34m(\u001b[0m\u001b[0mdata\u001b[0m\u001b[0;34m,\u001b[0m \u001b[0;32mNone\u001b[0m\u001b[0;34m,\u001b[0m \u001b[0mbcixml\u001b[0m\u001b[0;34m.\u001b[0m\u001b[0mINTERACTION_SIGNAL\u001b[0m\u001b[0;34m)\u001b[0m\u001b[0;34m\u001b[0m\u001b[0m\n\u001b[0m",
      "\u001b[0;31mNameError\u001b[0m: name 'data' is not defined"
     ]
    }
   ],
   "source": [
    "signal = bcixml.BciSignal(data, None, bcixml.INTERACTION_SIGNAL)"
   ]
  },
  {
   "cell_type": "code",
   "execution_count": null,
   "metadata": {},
   "outputs": [],
   "source": [
    "signal = bcixml.BciSignal(None, None, bcixml.CONTROL_SIGNAL)\n",
    "signal.data = {'data': 0.5}\n",
    "bcinet.send_signal(signal)"
   ]
  },
  {
   "cell_type": "markdown",
   "metadata": {},
   "source": [
    "# Some of the commands you find in All Caps:"
   ]
  },
  {
   "cell_type": "code",
   "execution_count": null,
   "metadata": {},
   "outputs": [],
   "source": [
    "dir(bcixml)"
   ]
  },
  {
   "cell_type": "code",
   "execution_count": null,
   "metadata": {},
   "outputs": [],
   "source": []
  }
 ],
 "metadata": {
  "kernelspec": {
   "display_name": "Python 3",
   "language": "python",
   "name": "python3"
  },
  "language_info": {
   "codemirror_mode": {
    "name": "ipython",
    "version": 3
   },
   "file_extension": ".py",
   "mimetype": "text/x-python",
   "name": "python",
   "nbconvert_exporter": "python",
   "pygments_lexer": "ipython3",
   "version": "3.6.6"
  }
 },
 "nbformat": 4,
 "nbformat_minor": 2
}
