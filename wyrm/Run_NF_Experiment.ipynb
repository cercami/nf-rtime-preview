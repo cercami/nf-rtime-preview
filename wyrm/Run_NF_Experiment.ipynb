{
 "cells": [
  {
   "cell_type": "markdown",
   "metadata": {},
   "source": [
    "# This notebook is for making an EEG Experiment\n"
   ]
  },
  {
   "cell_type": "markdown",
   "metadata": {},
   "source": [
    "#### Instead of the bpamp, we can ALSO (!) figure out a way to use the Replayamp!!\n",
    "The Replayamp allows us to 'replay' an older dataset for practive & simulations"
   ]
  },
  {
   "cell_type": "code",
   "execution_count": 2,
   "metadata": {},
   "outputs": [],
   "source": [
    "# we'll think about setup.py and https://python-packaging.readthedocs.io/en/latest/minimal.html\n",
    "# later. For now we just use location magic:\n",
    "import sys\n",
    "sys.path.append(\"../mushu\")\n",
    "sys.path.append(\"../mushu/libmushu\")\n",
    "\n",
    "import libmushu\n",
    "amp = libmushu.get_amp('bpamp')"
   ]
  },
  {
   "cell_type": "markdown",
   "metadata": {},
   "source": [
    "Configure the amp -- configuration is SPECIFIC for the BPamp -- other have different specifications"
   ]
  },
  {
   "cell_type": "code",
   "execution_count": 3,
   "metadata": {},
   "outputs": [
    {
     "name": "stdout",
     "output_type": "stream",
     "text": [
      "connecting to 20.100.0.3 port 6700\n",
      "sending b'1C:\\\\Vision\\\\Workfiles\\\\NF_64chEEG.rwksp'\n",
      "sending b'2Pre-Run01'\n",
      "sending b'30001'\n",
      "sending b'4'\n",
      "sending b'M'\n"
     ]
    }
   ],
   "source": [
    "amp.configure(remotecontrol=True,\n",
    "              recorderip='20.100.0.3',\n",
    "              recorderport=51244,\n",
    "              pathtoworkspace='C:\\\\Vision\\\\Workfiles\\\\NF_64chEEG.rwksp',\n",
    "              experimentnumber='Pre-Run01',\n",
    "              subjectid='0001',\n",
    "              n_channels=64,\n",
    "              fs=5000)"
   ]
  },
  {
   "cell_type": "code",
   "execution_count": null,
   "metadata": {},
   "outputs": [
    {
     "name": "stdout",
     "output_type": "stream",
     "text": [
      "Starting UDP server\n"
     ]
    },
    {
     "name": "stderr",
     "output_type": "stream",
     "text": [
      "Process Process-2:\n",
      "Traceback (most recent call last):\n",
      "  File \"/home/nfcontrol/.conda/envs/rt/lib/python3.5/multiprocessing/process.py\", line 252, in _bootstrap\n",
      "    self.run()\n",
      "  File \"/home/nfcontrol/.conda/envs/rt/lib/python3.5/multiprocessing/process.py\", line 93, in run\n",
      "    self._target(*self._args, **self._kwargs)\n",
      "  File \"../mushu/libmushu/ampdecorator.py\", line 343, in marker_reader\n",
      "    transport, protocol = loop.run_until_complete(listen)\n",
      "  File \"/home/nfcontrol/.conda/envs/rt/lib/python3.5/asyncio/base_events.py\", line 454, in run_until_complete\n",
      "    self.run_forever()\n",
      "  File \"/home/nfcontrol/.conda/envs/rt/lib/python3.5/asyncio/base_events.py\", line 408, in run_forever\n",
      "    raise RuntimeError('This event loop is already running')\n",
      "RuntimeError: This event loop is already running\n"
     ]
    }
   ],
   "source": [
    "amp.start()"
   ]
  },
  {
   "cell_type": "markdown",
   "metadata": {},
   "source": [
    "# This is where the magic happens in terms of signal analysis, etc etc."
   ]
  },
  {
   "cell_type": "code",
   "execution_count": 4,
   "metadata": {},
   "outputs": [
    {
     "name": "stdout",
     "output_type": "stream",
     "text": [
      "0123456789101112131415161718192021222324252627282930313233343536373839"
     ]
    }
   ],
   "source": [
    "alld=[]\n",
    "allm=[]\n",
    "import time\n",
    "starttime=time.time()\n",
    "newtime=starttime\n",
    "i=0;\n",
    "while time.time() - starttime < 20:\n",
    "\n",
    "    while time.time() - newtime < 0.5:\n",
    "        pass\n",
    "    else:\n",
    "        data, marker = amp.get_data()\n",
    "        alld.append(data)\n",
    "        for m in marker:\n",
    "            allm.append(marker)\n",
    "\n",
    "        print('%d' % i, end='', flush=True)\n",
    "        # print(data.shape)\n",
    "        # print(marker)\n",
    "        i+=1\n",
    "        newtime+=0.5"
   ]
  },
  {
   "cell_type": "markdown",
   "metadata": {},
   "source": [
    "Stop the Amplifier (but retain possibility to query for incoming data)"
   ]
  },
  {
   "cell_type": "code",
   "execution_count": 5,
   "metadata": {},
   "outputs": [
    {
     "name": "stdout",
     "output_type": "stream",
     "text": [
      "requesting to stop the acquisition\n",
      "amplifier stopped!\n"
     ]
    }
   ],
   "source": [
    "amp.stop()"
   ]
  },
  {
   "cell_type": "code",
   "execution_count": null,
   "metadata": {},
   "outputs": [],
   "source": []
  }
 ],
 "metadata": {
  "kernelspec": {
   "display_name": "Python 3",
   "language": "python",
   "name": "python3"
  },
  "language_info": {
   "codemirror_mode": {
    "name": "ipython",
    "version": 3
   },
   "file_extension": ".py",
   "mimetype": "text/x-python",
   "name": "python",
   "nbconvert_exporter": "python",
   "pygments_lexer": "ipython3",
   "version": "3.5.4"
  }
 },
 "nbformat": 4,
 "nbformat_minor": 2
}
